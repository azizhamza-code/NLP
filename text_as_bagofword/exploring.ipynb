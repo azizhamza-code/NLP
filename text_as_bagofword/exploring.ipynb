{
 "cells": [
  {
   "cell_type": "code",
   "execution_count": 1,
   "metadata": {},
   "outputs": [],
   "source": [
    "from utils import import_data"
   ]
  },
  {
   "cell_type": "code",
   "execution_count": 1,
   "metadata": {},
   "outputs": [],
   "source": [
    "import sys , os\n",
    "sys.path.append(os.path.join(\"..\",\"NLP\"))\n"
   ]
  },
  {
   "cell_type": "code",
   "execution_count": 2,
   "metadata": {},
   "outputs": [
    {
     "data": {
      "text/plain": [
       "['c:\\\\Users\\\\Hamza\\\\Documents\\\\project\\\\NLP\\\\text_as_bagofword',\n",
       " 'c:\\\\Users\\\\Hamza\\\\.vscode\\\\extensions\\\\ms-toolsai.jupyter-2022.8.1002431955\\\\pythonFiles',\n",
       " 'c:\\\\Users\\\\Hamza\\\\.vscode\\\\extensions\\\\ms-toolsai.jupyter-2022.8.1002431955\\\\pythonFiles\\\\lib\\\\python',\n",
       " 'C:\\\\Program Files\\\\WindowsApps\\\\PythonSoftwareFoundation.Python.3.10_3.10.2032.0_x64__qbz5n2kfra8p0\\\\python310.zip',\n",
       " 'C:\\\\Program Files\\\\WindowsApps\\\\PythonSoftwareFoundation.Python.3.10_3.10.2032.0_x64__qbz5n2kfra8p0\\\\DLLs',\n",
       " 'C:\\\\Program Files\\\\WindowsApps\\\\PythonSoftwareFoundation.Python.3.10_3.10.2032.0_x64__qbz5n2kfra8p0\\\\lib',\n",
       " 'C:\\\\Users\\\\Hamza\\\\AppData\\\\Local\\\\Microsoft\\\\WindowsApps\\\\PythonSoftwareFoundation.Python.3.10_qbz5n2kfra8p0',\n",
       " 'c:\\\\Users\\\\Hamza\\\\Documents\\\\project\\\\NLP\\\\.venv',\n",
       " '',\n",
       " 'c:\\\\Users\\\\Hamza\\\\Documents\\\\project\\\\NLP\\\\.venv\\\\lib\\\\site-packages',\n",
       " 'c:\\\\Users\\\\Hamza\\\\Documents\\\\project\\\\NLP\\\\.venv\\\\lib\\\\site-packages\\\\win32',\n",
       " 'c:\\\\Users\\\\Hamza\\\\Documents\\\\project\\\\NLP\\\\.venv\\\\lib\\\\site-packages\\\\win32\\\\lib',\n",
       " 'c:\\\\Users\\\\Hamza\\\\Documents\\\\project\\\\NLP\\\\.venv\\\\lib\\\\site-packages\\\\Pythonwin',\n",
       " '..\\\\NLP']"
      ]
     },
     "execution_count": 2,
     "metadata": {},
     "output_type": "execute_result"
    }
   ],
   "source": [
    "sys.path"
   ]
  },
  {
   "cell_type": "code",
   "execution_count": 2,
   "metadata": {},
   "outputs": [],
   "source": [
    "from setup_resources import data_bag_of_words\n",
    " "
   ]
  },
  {
   "cell_type": "code",
   "execution_count": null,
   "metadata": {},
   "outputs": [],
   "source": []
  }
 ],
 "metadata": {
  "kernelspec": {
   "display_name": "Python 3.10.7 ('.venv': venv)",
   "language": "python",
   "name": "python3"
  },
  "language_info": {
   "codemirror_mode": {
    "name": "ipython",
    "version": 3
   },
   "file_extension": ".py",
   "mimetype": "text/x-python",
   "name": "python",
   "nbconvert_exporter": "python",
   "pygments_lexer": "ipython3",
   "version": "3.10.7"
  },
  "orig_nbformat": 4,
  "vscode": {
   "interpreter": {
    "hash": "1ad64e2f76d4b663e27dc016b301ff2b90262b1c123047d66778f2c46f1cc0cc"
   }
  }
 },
 "nbformat": 4,
 "nbformat_minor": 2
}
