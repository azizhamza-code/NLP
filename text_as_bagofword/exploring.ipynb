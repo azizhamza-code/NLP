{
 "cells": [
  {
   "cell_type": "code",
   "execution_count": 1,
   "metadata": {},
   "outputs": [],
   "source": [
    "from utils import import_data"
   ]
  },
  {
   "cell_type": "code",
   "execution_count": 2,
   "metadata": {},
   "outputs": [
    {
     "name": "stdout",
     "output_type": "stream",
     "text": [
      "Filec:\\Users\\Hamza\\Documents\\project\\NLP\\data\\train.tsv is already download\n",
      "Filec:\\Users\\Hamza\\Documents\\project\\NLP\\data\\validation.tsv is already download\n",
      "Filec:\\Users\\Hamza\\Documents\\project\\NLP\\data\\test.tsv is already download\n",
      "Filec:\\Users\\Hamza\\Documents\\project\\NLP\\data\\text_prepare_tests.tsv is already download\n"
     ]
    }
   ],
   "source": [
    "train ,dev ,test = import_data()\n"
   ]
  },
  {
   "cell_type": "code",
   "execution_count": 3,
   "metadata": {},
   "outputs": [
    {
     "data": {
      "text/html": [
       "<div>\n",
       "<style scoped>\n",
       "    .dataframe tbody tr th:only-of-type {\n",
       "        vertical-align: middle;\n",
       "    }\n",
       "\n",
       "    .dataframe tbody tr th {\n",
       "        vertical-align: top;\n",
       "    }\n",
       "\n",
       "    .dataframe thead th {\n",
       "        text-align: right;\n",
       "    }\n",
       "</style>\n",
       "<table border=\"1\" class=\"dataframe\">\n",
       "  <thead>\n",
       "    <tr style=\"text-align: right;\">\n",
       "      <th></th>\n",
       "      <th>title</th>\n",
       "      <th>tags</th>\n",
       "    </tr>\n",
       "  </thead>\n",
       "  <tbody>\n",
       "    <tr>\n",
       "      <th>0</th>\n",
       "      <td>How to draw a stacked dotplot in R?</td>\n",
       "      <td>['r']</td>\n",
       "    </tr>\n",
       "    <tr>\n",
       "      <th>1</th>\n",
       "      <td>mysql select all records where a datetime fiel...</td>\n",
       "      <td>['php', 'mysql']</td>\n",
       "    </tr>\n",
       "    <tr>\n",
       "      <th>2</th>\n",
       "      <td>How to terminate windows phone 8.1 app</td>\n",
       "      <td>['c#']</td>\n",
       "    </tr>\n",
       "    <tr>\n",
       "      <th>3</th>\n",
       "      <td>get current time in a specific country via jquery</td>\n",
       "      <td>['javascript', 'jquery']</td>\n",
       "    </tr>\n",
       "    <tr>\n",
       "      <th>4</th>\n",
       "      <td>Configuring Tomcat to Use SSL</td>\n",
       "      <td>['java']</td>\n",
       "    </tr>\n",
       "    <tr>\n",
       "      <th>...</th>\n",
       "      <td>...</td>\n",
       "      <td>...</td>\n",
       "    </tr>\n",
       "    <tr>\n",
       "      <th>99995</th>\n",
       "      <td>Obj-c, incorrect checksum for freed object - o...</td>\n",
       "      <td>['iphone', 'objective-c', 'ios', 'cocoa-touch']</td>\n",
       "    </tr>\n",
       "    <tr>\n",
       "      <th>99996</th>\n",
       "      <td>How to connect via HTTPS using Jsoup?</td>\n",
       "      <td>['java', 'android']</td>\n",
       "    </tr>\n",
       "    <tr>\n",
       "      <th>99997</th>\n",
       "      <td>Python Pandas Series of Datetimes to Seconds S...</td>\n",
       "      <td>['python', 'datetime', 'pandas']</td>\n",
       "    </tr>\n",
       "    <tr>\n",
       "      <th>99998</th>\n",
       "      <td>jqGrid issue grouping - Duplicate rows get app...</td>\n",
       "      <td>['javascript', 'jquery']</td>\n",
       "    </tr>\n",
       "    <tr>\n",
       "      <th>99999</th>\n",
       "      <td>Create a List of primitive int?</td>\n",
       "      <td>['java', 'list', 'generics']</td>\n",
       "    </tr>\n",
       "  </tbody>\n",
       "</table>\n",
       "<p>100000 rows × 2 columns</p>\n",
       "</div>"
      ],
      "text/plain": [
       "                                                   title  \\\n",
       "0                    How to draw a stacked dotplot in R?   \n",
       "1      mysql select all records where a datetime fiel...   \n",
       "2                 How to terminate windows phone 8.1 app   \n",
       "3      get current time in a specific country via jquery   \n",
       "4                          Configuring Tomcat to Use SSL   \n",
       "...                                                  ...   \n",
       "99995  Obj-c, incorrect checksum for freed object - o...   \n",
       "99996              How to connect via HTTPS using Jsoup?   \n",
       "99997  Python Pandas Series of Datetimes to Seconds S...   \n",
       "99998  jqGrid issue grouping - Duplicate rows get app...   \n",
       "99999                    Create a List of primitive int?   \n",
       "\n",
       "                                                  tags  \n",
       "0                                                ['r']  \n",
       "1                                     ['php', 'mysql']  \n",
       "2                                               ['c#']  \n",
       "3                             ['javascript', 'jquery']  \n",
       "4                                             ['java']  \n",
       "...                                                ...  \n",
       "99995  ['iphone', 'objective-c', 'ios', 'cocoa-touch']  \n",
       "99996                              ['java', 'android']  \n",
       "99997                 ['python', 'datetime', 'pandas']  \n",
       "99998                         ['javascript', 'jquery']  \n",
       "99999                     ['java', 'list', 'generics']  \n",
       "\n",
       "[100000 rows x 2 columns]"
      ]
     },
     "execution_count": 3,
     "metadata": {},
     "output_type": "execute_result"
    }
   ],
   "source": [
    "train"
   ]
  },
  {
   "cell_type": "code",
   "execution_count": 4,
   "metadata": {},
   "outputs": [
    {
     "data": {
      "text/plain": [
       "0                       ['r']\n",
       "1            ['php', 'mysql']\n",
       "2                      ['c#']\n",
       "3    ['javascript', 'jquery']\n",
       "4                    ['java']\n",
       "5           ['ruby-on-rails']\n",
       "Name: tags, dtype: object"
      ]
     },
     "execution_count": 4,
     "metadata": {},
     "output_type": "execute_result"
    }
   ],
   "source": [
    "train.iloc[0:6,1]"
   ]
  },
  {
   "cell_type": "code",
   "execution_count": 5,
   "metadata": {},
   "outputs": [],
   "source": [
    "import seaborn as sns"
   ]
  },
  {
   "cell_type": "code",
   "execution_count": 6,
   "metadata": {},
   "outputs": [
    {
     "data": {
      "text/plain": [
       "<seaborn.axisgrid.FacetGrid at 0x20b48893460>"
      ]
     },
     "execution_count": 6,
     "metadata": {},
     "output_type": "execute_result"
    },
    {
     "data": {
      "image/png": "[encoded data removed]",
      "text/plain": [
       "<Figure size 500x500 with 1 Axes>"
      ]
     },
     "metadata": {},
     "output_type": "display_data"
    }
   ],
   "source": [
    "sns.displot(train['tags'].apply(lambda x : len(x.strip(\"][\").split(\",\"))))"
   ]
  },
  {
   "cell_type": "code",
   "execution_count": 7,
   "metadata": {},
   "outputs": [],
   "source": [
    "from collections import Counter\n",
    "import matplotlib.pyplot as plt\n",
    "import seaborn as sns\n",
    "import warnings\n",
    "\n",
    "sns.set_theme()\n",
    "warnings.filterwarnings(\"ignore\")\n"
   ]
  },
  {
   "cell_type": "code",
   "execution_count": 71,
   "metadata": {},
   "outputs": [],
   "source": [
    "l = []\n",
    "for i in range(len(train)):\n",
    "   l.extend(train.iloc[i,1])\n",
    "\n",
    "\n",
    "   "
   ]
  },
  {
   "cell_type": "code",
   "execution_count": 65,
   "metadata": {},
   "outputs": [],
   "source": [
    "d=  dict(Counter(l).most_common(20))"
   ]
  },
  {
   "cell_type": "code",
   "execution_count": 70,
   "metadata": {},
   "outputs": [
    {
     "data": {
      "text/plain": [
       "<BarContainer object of 20 artists>"
      ]
     },
     "execution_count": 70,
     "metadata": {},
     "output_type": "execute_result"
    },
    {
     "data": {
      "image/png": "[encoded data removed]",
      "text/plain": [
       "<Figure size 2500x1000 with 1 Axes>"
      ]
     },
     "metadata": {},
     "output_type": "display_data"
    }
   ],
   "source": [
    "import collections\n",
    "import matplotlib.pyplot as plt\n",
    "\n",
    "f, ax = plt.subplots(figsize=(25,10))\n",
    "plt.bar(d.keys(), d.values())"
   ]
  },
  {
   "cell_type": "code",
   "execution_count": 20,
   "metadata": {},
   "outputs": [
    {
     "name": "stderr",
     "output_type": "stream",
     "text": [
      "[nltk_data] Downloading package stopwords to\n",
      "[nltk_data]     C:\\Users\\Hamza\\AppData\\Roaming\\nltk_data...\n",
      "[nltk_data]   Package stopwords is already up-to-date!\n"
     ]
    }
   ],
   "source": [
    "from prepro import clean_text"
   ]
  },
  {
   "cell_type": "code",
   "execution_count": 21,
   "metadata": {},
   "outputs": [
    {
     "data": {
      "text/plain": [
       "'draw stack dotplot r'"
      ]
     },
     "execution_count": 21,
     "metadata": {},
     "output_type": "execute_result"
    }
   ],
   "source": [
    "clean_text(train.iloc[0,0],stem=True)"
   ]
  },
  {
   "cell_type": "code",
   "execution_count": 22,
   "metadata": {},
   "outputs": [
    {
     "data": {
      "text/plain": [
       "'draw stack dotplot r'"
      ]
     },
     "execution_count": 22,
     "metadata": {},
     "output_type": "execute_result"
    }
   ],
   "source": [
    "clean_text(train.iloc[0,0],stem=True)"
   ]
  },
  {
   "cell_type": "code",
   "execution_count": 23,
   "metadata": {},
   "outputs": [],
   "source": [
    "import numpy as np\n",
    "import pandas as pd"
   ]
  },
  {
   "cell_type": "code",
   "execution_count": 72,
   "metadata": {},
   "outputs": [],
   "source": [
    "d = {\"scource\":[],\"prepro\":[]}\n",
    "\n",
    "for i in range(5):\n",
    "\n",
    "   index = np.random.randint(0,len(train))\n",
    "   d['scource'].append(train.iloc[index,0])\n",
    "   d['prepro'].append(clean_text(train.iloc[index,0]))\n"
   ]
  },
  {
   "cell_type": "code",
   "execution_count": 73,
   "metadata": {},
   "outputs": [
    {
     "data": {
      "text/html": [
       "<div>\n",
       "<style scoped>\n",
       "    .dataframe tbody tr th:only-of-type {\n",
       "        vertical-align: middle;\n",
       "    }\n",
       "\n",
       "    .dataframe tbody tr th {\n",
       "        vertical-align: top;\n",
       "    }\n",
       "\n",
       "    .dataframe thead th {\n",
       "        text-align: right;\n",
       "    }\n",
       "</style>\n",
       "<table border=\"1\" class=\"dataframe\">\n",
       "  <thead>\n",
       "    <tr style=\"text-align: right;\">\n",
       "      <th></th>\n",
       "      <th>scource</th>\n",
       "      <th>prepro</th>\n",
       "    </tr>\n",
       "  </thead>\n",
       "  <tbody>\n",
       "    <tr>\n",
       "      <th>0</th>\n",
       "      <td>How to resume playing after paused using gstre...</td>\n",
       "      <td>resume playing paused using gstreamer</td>\n",
       "    </tr>\n",
       "    <tr>\n",
       "      <th>1</th>\n",
       "      <td>Programmatic XML Diff / Merge in C#</td>\n",
       "      <td>programmatic xml diff merge c#</td>\n",
       "    </tr>\n",
       "    <tr>\n",
       "      <th>2</th>\n",
       "      <td>Encoding video files for XNA</td>\n",
       "      <td>encoding video files xna</td>\n",
       "    </tr>\n",
       "    <tr>\n",
       "      <th>3</th>\n",
       "      <td>Android Studio 2.1 Error converting bytecode t...</td>\n",
       "      <td>android studio 21 error converting bytecode dex</td>\n",
       "    </tr>\n",
       "    <tr>\n",
       "      <th>4</th>\n",
       "      <td>Was javax's NotNull removed in Java 8?</td>\n",
       "      <td>javaxnotnull removed java 8</td>\n",
       "    </tr>\n",
       "  </tbody>\n",
       "</table>\n",
       "</div>"
      ],
      "text/plain": [
       "                                             scource  \\\n",
       "0  How to resume playing after paused using gstre...   \n",
       "1                Programmatic XML Diff / Merge in C#   \n",
       "2                       Encoding video files for XNA   \n",
       "3  Android Studio 2.1 Error converting bytecode t...   \n",
       "4             Was javax's NotNull removed in Java 8?   \n",
       "\n",
       "                                            prepro  \n",
       "0            resume playing paused using gstreamer  \n",
       "1                   programmatic xml diff merge c#  \n",
       "2                         encoding video files xna  \n",
       "3  android studio 21 error converting bytecode dex  \n",
       "4                      javaxnotnull removed java 8  "
      ]
     },
     "execution_count": 73,
     "metadata": {},
     "output_type": "execute_result"
    }
   ],
   "source": [
    "pd.DataFrame(d)"
   ]
  },
  {
   "cell_type": "code",
   "execution_count": null,
   "metadata": {},
   "outputs": [],
   "source": []
  },
  {
   "cell_type": "code",
   "execution_count": null,
   "metadata": {},
   "outputs": [],
   "source": []
  }
 ],
 "metadata": {
  "kernelspec": {
   "display_name": "Python 3.10.7 ('.venv': venv)",
   "language": "python",
   "name": "python3"
  },
  "language_info": {
   "codemirror_mode": {
    "name": "ipython",
    "version": 3
   },
   "file_extension": ".py",
   "mimetype": "text/x-python",
   "name": "python",
   "nbconvert_exporter": "python",
   "pygments_lexer": "ipython3",
   "version": "3.10.7"
  },
  "orig_nbformat": 4,
  "vscode": {
   "interpreter": {
    "hash": "1ad64e2f76d4b663e27dc016b301ff2b90262b1c123047d66778f2c46f1cc0cc"
   }
  }
 },
 "nbformat": 4,
 "nbformat_minor": 2
}
