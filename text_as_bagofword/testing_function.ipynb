{
 "cells": [
  {
   "cell_type": "code",
   "execution_count": 1,
   "metadata": {},
   "outputs": [
    {
     "name": "stderr",
     "output_type": "stream",
     "text": [
      "[nltk_data] Downloading package stopwords to\n",
      "[nltk_data]     C:\\Users\\Hamza\\AppData\\Roaming\\nltk_data...\n",
      "[nltk_data]   Package stopwords is already up-to-date!\n"
     ]
    }
   ],
   "source": [
    "from utils import import_data\n",
    "from prepro import data\n"
   ]
  },
  {
   "cell_type": "code",
   "execution_count": 2,
   "metadata": {},
   "outputs": [
    {
     "name": "stdout",
     "output_type": "stream",
     "text": [
      "Filec:\\Users\\Hamza\\Documents\\project\\NLP\\data\\train.tsv is already download\n",
      "Filec:\\Users\\Hamza\\Documents\\project\\NLP\\data\\validation.tsv is already download\n",
      "Filec:\\Users\\Hamza\\Documents\\project\\NLP\\data\\test.tsv is already download\n",
      "Filec:\\Users\\Hamza\\Documents\\project\\NLP\\data\\text_prepare_tests.tsv is already download\n",
      "Filec:\\Users\\Hamza\\Documents\\project\\NLP\\data\\encoding.json is already download\n"
     ]
    }
   ],
   "source": [
    "\n",
    "train , val ,test, encoder_instance = import_data(encoders_data=True)\n",
    "data_class = data(train ,val ,test)"
   ]
  },
  {
   "cell_type": "code",
   "execution_count": 3,
   "metadata": {},
   "outputs": [
    {
     "name": "stderr",
     "output_type": "stream",
     "text": [
      "14:55:35.47 >>> Call to data.clean_and_encode_data in File \"c:\\Users\\Hamza\\Documents\\project\\NLP\\text_as_bagofword\\prepro.py\", line 137\n",
      "14:55:35.47 .......... self = <prepro.data object at 0x000001E847BDFDF0>\n",
      "14:55:35.47 .......... encoder = <prepro.encode_label object at 0x000001E858973A30>\n",
      "14:55:35.47 .......... len(encoder) = 100\n",
      "14:55:35.47  137 |     def clean_and_encode_data(self, encoder):\n",
      "14:55:35.47  139 |         self.train = data.clean_datafram(self.train)\n",
      "14:55:58.44  140 |         self.val = data.clean_datafram(self.val)\n",
      "14:56:06.58  141 |         self.test = data.clean_datafram(self.test, test=True)\n",
      "14:56:11.65  143 |         self.train = data.encode_datafram_label(encoder, self.train)\n",
      "14:56:11.99  144 |         self.val = data.encode_datafram_label(encoder, self.val)\n",
      "14:56:12.13  146 |         self.x_train_df , self.x_train, self.y_train = self.train.iloc[:,0],self.train.iloc[:,0].values, np.stack(self.train.iloc[:, 1].values)\n",
      "14:56:12.22  147 |         self.x_val_df,self.x_val, self.y_val = self.train.iloc[:,0],self.val.iloc[:,0].values, np.stack(self.val.iloc[:, 1].values)\n",
      "14:56:12.24  148 |         self.x_test = self.test.iloc[:,0].values\n",
      "14:56:12.24 <<< Return value from data.clean_and_encode_data: None\n"
     ]
    }
   ],
   "source": [
    "data_class.clean_and_encode_data(encoder=encoder_instance)"
   ]
  },
  {
   "cell_type": "code",
   "execution_count": 4,
   "metadata": {},
   "outputs": [
    {
     "data": {
      "text/plain": [
       "array([[0., 0., 0., ..., 0., 0., 0.],\n",
       "       [0., 0., 0., ..., 0., 0., 0.],\n",
       "       [0., 0., 0., ..., 0., 0., 0.],\n",
       "       ...,\n",
       "       [1., 0., 0., ..., 0., 0., 0.],\n",
       "       [0., 0., 0., ..., 0., 0., 0.],\n",
       "       [0., 0., 0., ..., 0., 0., 1.]])"
      ]
     },
     "execution_count": 4,
     "metadata": {},
     "output_type": "execute_result"
    }
   ],
   "source": [
    "data_class.y_train"
   ]
  },
  {
   "cell_type": "code",
   "execution_count": 6,
   "metadata": {},
   "outputs": [],
   "source": [
    "from model import random_model"
   ]
  },
  {
   "cell_type": "code",
   "execution_count": 7,
   "metadata": {},
   "outputs": [],
   "source": [
    "random_model = random_model()"
   ]
  },
  {
   "cell_type": "code",
   "execution_count": 8,
   "metadata": {},
   "outputs": [],
   "source": [
    "random_model.fit(data_class.x_train , data_class.y_train)"
   ]
  },
  {
   "cell_type": "code",
   "execution_count": 9,
   "metadata": {},
   "outputs": [],
   "source": [
    "y_pred = random_model.transform(data_class.x_val)"
   ]
  },
  {
   "cell_type": "code",
   "execution_count": 10,
   "metadata": {},
   "outputs": [
    {
     "data": {
      "text/plain": [
       "array([[0., 0., 0., ..., 0., 0., 0.],\n",
       "       [0., 0., 0., ..., 0., 0., 0.],\n",
       "       [0., 0., 0., ..., 0., 0., 0.],\n",
       "       ...,\n",
       "       [0., 0., 0., ..., 0., 0., 1.],\n",
       "       [0., 0., 0., ..., 0., 0., 0.],\n",
       "       [0., 1., 0., ..., 0., 0., 0.]])"
      ]
     },
     "execution_count": 10,
     "metadata": {},
     "output_type": "execute_result"
    }
   ],
   "source": [
    "data_class.y_val"
   ]
  },
  {
   "cell_type": "code",
   "execution_count": 11,
   "metadata": {},
   "outputs": [],
   "source": [
    "from model import metric"
   ]
  },
  {
   "cell_type": "code",
   "execution_count": 12,
   "metadata": {},
   "outputs": [
    {
     "name": "stdout",
     "output_type": "stream",
     "text": [
      "{\n",
      "  \"precision\": 0.08430465837009342,\n",
      "  \"recall\": 0.08498695997278603,\n",
      "  \"f1\": 0.08459023258236559\n",
      "}\n"
     ]
    }
   ],
   "source": [
    "metric(data_class.y_val , y_pred)"
   ]
  },
  {
   "cell_type": "code",
   "execution_count": 13,
   "metadata": {},
   "outputs": [],
   "source": [
    "y_pred_train = random_model.transform(data_class.x_train)"
   ]
  },
  {
   "cell_type": "code",
   "execution_count": 14,
   "metadata": {},
   "outputs": [
    {
     "name": "stdout",
     "output_type": "stream",
     "text": [
      "{\n",
      "  \"precision\": 0.08533223720559531,\n",
      "  \"recall\": 0.08580829805830234,\n",
      "  \"f1\": 0.08556367246224784\n",
      "}\n"
     ]
    }
   ],
   "source": [
    "metric(data_class.y_train , y_pred_train)"
   ]
  },
  {
   "cell_type": "code",
   "execution_count": 15,
   "metadata": {},
   "outputs": [
    {
     "data": {
      "text/plain": [
       "array(['judg int number odd even binari way',\n",
       "       'electron differ cordova implement wrap cordova api use nodej api electron',\n",
       "       'depend insid warpackag vs share librari', ...,\n",
       "       'systeminvalidoperationexcept specifi cast materi systemint32 type nullabl countri type valid',\n",
       "       'python join two array key column', 'pars xml use xsd php'],\n",
       "      dtype=object)"
      ]
     },
     "execution_count": 15,
     "metadata": {},
     "output_type": "execute_result"
    }
   ],
   "source": [
    "data_class.x_train"
   ]
  },
  {
   "cell_type": "code",
   "execution_count": null,
   "metadata": {},
   "outputs": [],
   "source": []
  },
  {
   "cell_type": "code",
   "execution_count": null,
   "metadata": {},
   "outputs": [],
   "source": []
  }
 ],
 "metadata": {
  "kernelspec": {
   "display_name": "Python 3.10.7 ('.venv': venv)",
   "language": "python",
   "name": "python3"
  },
  "language_info": {
   "codemirror_mode": {
    "name": "ipython",
    "version": 3
   },
   "file_extension": ".py",
   "mimetype": "text/x-python",
   "name": "python",
   "nbconvert_exporter": "python",
   "pygments_lexer": "ipython3",
   "version": "3.10.7"
  },
  "orig_nbformat": 4,
  "vscode": {
   "interpreter": {
    "hash": "1ad64e2f76d4b663e27dc016b301ff2b90262b1c123047d66778f2c46f1cc0cc"
   }
  }
 },
 "nbformat": 4,
 "nbformat_minor": 2
}
