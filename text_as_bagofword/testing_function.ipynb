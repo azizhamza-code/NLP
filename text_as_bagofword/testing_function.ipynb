{
 "cells": [
  {
   "cell_type": "code",
   "execution_count": 1,
   "metadata": {},
   "outputs": [
    {
     "name": "stderr",
     "output_type": "stream",
     "text": [
      "[nltk_data] Downloading package stopwords to\n",
      "[nltk_data]     C:\\Users\\Hamza\\AppData\\Roaming\\nltk_data...\n",
      "[nltk_data]   Package stopwords is already up-to-date!\n"
     ]
    }
   ],
   "source": [
    "from utils import import_data\n",
    "from prepro import data\n"
   ]
  },
  {
   "cell_type": "code",
   "execution_count": 2,
   "metadata": {},
   "outputs": [
    {
     "name": "stdout",
     "output_type": "stream",
     "text": [
      "Filec:\\Users\\Hamza\\Documents\\project\\NLP\\data\\train.tsv is already download\n",
      "Filec:\\Users\\Hamza\\Documents\\project\\NLP\\data\\validation.tsv is already download\n",
      "Filec:\\Users\\Hamza\\Documents\\project\\NLP\\data\\test.tsv is already download\n",
      "Filec:\\Users\\Hamza\\Documents\\project\\NLP\\data\\text_prepare_tests.tsv is already download\n",
      "Filec:\\Users\\Hamza\\Documents\\project\\NLP\\data\\encoding.json is already download\n"
     ]
    }
   ],
   "source": [
    "\n",
    "train , val ,test, encoder_instance = import_data(encoders_data=True)\n",
    "data_class = data(train ,val ,test)"
   ]
  },
  {
   "cell_type": "code",
   "execution_count": 3,
   "metadata": {},
   "outputs": [
    {
     "name": "stderr",
     "output_type": "stream",
     "text": [
      "14:55:35.47 >>> Call to data.clean_and_encode_data in File \"c:\\Users\\Hamza\\Documents\\project\\NLP\\text_as_bagofword\\prepro.py\", line 137\n",
      "14:55:35.47 .......... self = <prepro.data object at 0x000001E847BDFDF0>\n",
      "14:55:35.47 .......... encoder = <prepro.encode_label object at 0x000001E858973A30>\n",
      "14:55:35.47 .......... len(encoder) = 100\n",
      "14:55:35.47  137 |     def clean_and_encode_data(self, encoder):\n",
      "14:55:35.47  139 |         self.train = data.clean_datafram(self.train)\n",
      "14:55:58.44  140 |         self.val = data.clean_datafram(self.val)\n",
      "14:56:06.58  141 |         self.test = data.clean_datafram(self.test, test=True)\n",
      "14:56:11.65  143 |         self.train = data.encode_datafram_label(encoder, self.train)\n",
      "14:56:11.99  144 |         self.val = data.encode_datafram_label(encoder, self.val)\n",
      "14:56:12.13  146 |         self.x_train_df , self.x_train, self.y_train = self.train.iloc[:,0],self.train.iloc[:,0].values, np.stack(self.train.iloc[:, 1].values)\n",
      "14:56:12.22  147 |         self.x_val_df,self.x_val, self.y_val = self.train.iloc[:,0],self.val.iloc[:,0].values, np.stack(self.val.iloc[:, 1].values)\n",
      "14:56:12.24  148 |         self.x_test = self.test.iloc[:,0].values\n",
      "14:56:12.24 <<< Return value from data.clean_and_encode_data: None\n"
     ]
    }
   ],
   "source": [
    "data_class.clean_and_encode_data(encoder=encoder_instance)"
   ]
  },
  {
   "cell_type": "code",
   "execution_count": 4,
   "metadata": {},
   "outputs": [
    {
     "data": {
      "text/plain": [
       "array([[0., 0., 0., ..., 0., 0., 0.],\n",
       "       [0., 0., 0., ..., 0., 0., 0.],\n",
       "       [0., 0., 0., ..., 0., 0., 0.],\n",
       "       ...,\n",
       "       [1., 0., 0., ..., 0., 0., 0.],\n",
       "       [0., 0., 0., ..., 0., 0., 0.],\n",
       "       [0., 0., 0., ..., 0., 0., 1.]])"
      ]
     },
     "execution_count": 4,
     "metadata": {},
     "output_type": "execute_result"
    }
   ],
   "source": [
    "data_class.y_train"
   ]
  },
  {
   "cell_type": "code",
   "execution_count": 6,
   "metadata": {},
   "outputs": [],
   "source": [
    "from model import random_model"
   ]
  },
  {
   "cell_type": "code",
   "execution_count": 7,
   "metadata": {},
   "outputs": [],
   "source": [
    "random_model = random_model()"
   ]
  },
  {
   "cell_type": "code",
   "execution_count": 8,
   "metadata": {},
   "outputs": [],
   "source": [
    "random_model.fit(data_class.x_train , data_class.y_train)"
   ]
  },
  {
   "cell_type": "code",
   "execution_count": 9,
   "metadata": {},
   "outputs": [],
   "source": [
    "y_pred = random_model.transform(data_class.x_val)"
   ]
  },
  {
   "cell_type": "code",
   "execution_count": 10,
   "metadata": {},
   "outputs": [
    {
     "data": {
      "text/plain": [
       "array([[0., 0., 0., ..., 0., 0., 0.],\n",
       "       [0., 0., 0., ..., 0., 0., 0.],\n",
       "       [0., 0., 0., ..., 0., 0., 0.],\n",
       "       ...,\n",
       "       [0., 0., 0., ..., 0., 0., 1.],\n",
       "       [0., 0., 0., ..., 0., 0., 0.],\n",
       "       [0., 1., 0., ..., 0., 0., 0.]])"
      ]
     },
     "execution_count": 10,
     "metadata": {},
     "output_type": "execute_result"
    }
   ],
   "source": [
    "data_class.y_val"
   ]
  },
  {
   "cell_type": "code",
   "execution_count": 11,
   "metadata": {},
   "outputs": [],
   "source": [
    "from model import metric"
   ]
  },
  {
   "cell_type": "code",
   "execution_count": 12,
   "metadata": {},
   "outputs": [
    {
     "name": "stdout",
     "output_type": "stream",
     "text": [
      "{\n",
      "  \"precision\": 0.08430465837009342,\n",
      "  \"recall\": 0.08498695997278603,\n",
      "  \"f1\": 0.08459023258236559\n",
      "}\n"
     ]
    }
   ],
   "source": [
    "metric(data_class.y_val , y_pred)"
   ]
  },
  {
   "cell_type": "code",
   "execution_count": 13,
   "metadata": {},
   "outputs": [],
   "source": [
    "y_pred_train = random_model.transform(data_class.x_train)"
   ]
  },
  {
   "cell_type": "code",
   "execution_count": 14,
   "metadata": {},
   "outputs": [
    {
     "name": "stdout",
     "output_type": "stream",
     "text": [
      "{\n",
      "  \"precision\": 0.08533223720559531,\n",
      "  \"recall\": 0.08580829805830234,\n",
      "  \"f1\": 0.08556367246224784\n",
      "}\n"
     ]
    }
   ],
   "source": [
    "metric(data_class.y_train , y_pred_train)"
   ]
  },
  {
   "cell_type": "code",
   "execution_count": 15,
   "metadata": {},
   "outputs": [
    {
     "data": {
      "text/plain": [
       "array(['judg int number odd even binari way',\n",
       "       'electron differ cordova implement wrap cordova api use nodej api electron',\n",
       "       'depend insid warpackag vs share librari', ...,\n",
       "       'systeminvalidoperationexcept specifi cast materi systemint32 type nullabl countri type valid',\n",
       "       'python join two array key column', 'pars xml use xsd php'],\n",
       "      dtype=object)"
      ]
     },
     "execution_count": 15,
     "metadata": {},
     "output_type": "execute_result"
    }
   ],
   "source": [
    "data_class.x_train"
   ]
  },
  {
   "cell_type": "code",
   "execution_count": 33,
   "metadata": {},
   "outputs": [],
   "source": [
    "from model import rule_based"
   ]
  },
  {
   "cell_type": "code",
   "execution_count": 34,
   "metadata": {},
   "outputs": [],
   "source": [
    "rulbased = rule_based(encoder_instance.class_to_index)"
   ]
  },
  {
   "cell_type": "code",
   "execution_count": 35,
   "metadata": {},
   "outputs": [
    {
     "data": {
      "text/plain": [
       "{'.net': 0,\n",
       " 'ajax': 1,\n",
       " 'algorithm': 2,\n",
       " 'android': 3,\n",
       " 'angularjs': 4,\n",
       " 'apache': 5,\n",
       " 'arrays': 6,\n",
       " 'asp.net': 7,\n",
       " 'asp.net-mvc': 8,\n",
       " 'c': 9,\n",
       " 'c#': 10,\n",
       " 'c++': 11,\n",
       " 'class': 12,\n",
       " 'cocoa-touch': 13,\n",
       " 'codeigniter': 14,\n",
       " 'css': 15,\n",
       " 'csv': 16,\n",
       " 'database': 17,\n",
       " 'date': 18,\n",
       " 'datetime': 19,\n",
       " 'django': 20,\n",
       " 'dom': 21,\n",
       " 'eclipse': 22,\n",
       " 'entity-framework': 23,\n",
       " 'excel': 24,\n",
       " 'facebook': 25,\n",
       " 'file': 26,\n",
       " 'forms': 27,\n",
       " 'function': 28,\n",
       " 'generics': 29,\n",
       " 'google-maps': 30,\n",
       " 'hibernate': 31,\n",
       " 'html': 32,\n",
       " 'html5': 33,\n",
       " 'image': 34,\n",
       " 'ios': 35,\n",
       " 'iphone': 36,\n",
       " 'java': 37,\n",
       " 'javascript': 38,\n",
       " 'jquery': 39,\n",
       " 'json': 40,\n",
       " 'jsp': 41,\n",
       " 'laravel': 42,\n",
       " 'linq': 43,\n",
       " 'linux': 44,\n",
       " 'list': 45,\n",
       " 'loops': 46,\n",
       " 'maven': 47,\n",
       " 'mongodb': 48,\n",
       " 'multithreading': 49,\n",
       " 'mysql': 50,\n",
       " 'node.js': 51,\n",
       " 'numpy': 52,\n",
       " 'objective-c': 53,\n",
       " 'oop': 54,\n",
       " 'opencv': 55,\n",
       " 'osx': 56,\n",
       " 'pandas': 57,\n",
       " 'parsing': 58,\n",
       " 'performance': 59,\n",
       " 'php': 60,\n",
       " 'pointers': 61,\n",
       " 'python': 62,\n",
       " 'python-2.7': 63,\n",
       " 'python-3.x': 64,\n",
       " 'qt': 65,\n",
       " 'r': 66,\n",
       " 'regex': 67,\n",
       " 'rest': 68,\n",
       " 'ruby': 69,\n",
       " 'ruby-on-rails': 70,\n",
       " 'ruby-on-rails-3': 71,\n",
       " 'selenium': 72,\n",
       " 'servlets': 73,\n",
       " 'session': 74,\n",
       " 'sockets': 75,\n",
       " 'sorting': 76,\n",
       " 'spring': 77,\n",
       " 'spring-mvc': 78,\n",
       " 'sql': 79,\n",
       " 'sql-server': 80,\n",
       " 'string': 81,\n",
       " 'swift': 82,\n",
       " 'swing': 83,\n",
       " 'twitter-bootstrap': 84,\n",
       " 'uitableview': 85,\n",
       " 'unit-testing': 86,\n",
       " 'validation': 87,\n",
       " 'vb.net': 88,\n",
       " 'visual-studio': 89,\n",
       " 'visual-studio-2010': 90,\n",
       " 'wcf': 91,\n",
       " 'web-services': 92,\n",
       " 'windows': 93,\n",
       " 'winforms': 94,\n",
       " 'wordpress': 95,\n",
       " 'wpf': 96,\n",
       " 'xaml': 97,\n",
       " 'xcode': 98,\n",
       " 'xml': 99}"
      ]
     },
     "execution_count": 35,
     "metadata": {},
     "output_type": "execute_result"
    }
   ],
   "source": [
    "encoder_instance.class_to_index"
   ]
  },
  {
   "cell_type": "code",
   "execution_count": 37,
   "metadata": {},
   "outputs": [],
   "source": [
    "pred_r = rulbased.transform(data_class.x_train_df)"
   ]
  },
  {
   "cell_type": "code",
   "execution_count": 39,
   "metadata": {},
   "outputs": [
    {
     "name": "stdout",
     "output_type": "stream",
     "text": [
      "{\n",
      "  \"precision\": 0.0007215798693783232,\n",
      "  \"recall\": 0.022004764271392092,\n",
      "  \"f1\": 0.0013926564160113859\n",
      "}\n"
     ]
    },
    {
     "name": "stderr",
     "output_type": "stream",
     "text": [
      "c:\\Users\\Hamza\\Documents\\project\\NLP\\.venv\\lib\\site-packages\\sklearn\\metrics\\_classification.py:1334: UndefinedMetricWarning: Precision and F-score are ill-defined and being set to 0.0 in labels with no predicted samples. Use `zero_division` parameter to control this behavior.\n",
      "  _warn_prf(average, modifier, msg_start, len(result))\n"
     ]
    }
   ],
   "source": [
    "metric(y_pred=pred_r,y_test=data_class.y_train)\n"
   ]
  },
  {
   "cell_type": "code",
   "execution_count": 45,
   "metadata": {},
   "outputs": [
    {
     "data": {
      "text/plain": [
       "array([0., 0., 0., 0., 0., 0., 0., 0., 0., 0., 0., 0., 0., 0., 0., 0., 0.,\n",
       "       0., 0., 0., 0., 0., 0., 0., 0., 0., 0., 0., 0., 0., 0., 0., 0., 0.,\n",
       "       0., 0., 0., 1., 0., 0., 0., 0., 0., 0., 0., 0., 0., 1., 0., 0., 0.,\n",
       "       0., 0., 0., 0., 0., 0., 0., 0., 0., 0., 0., 0., 0., 0., 0., 0., 0.,\n",
       "       0., 0., 0., 0., 0., 0., 0., 0., 0., 0., 0., 0., 0., 0., 0., 0., 0.,\n",
       "       0., 0., 0., 0., 0., 0., 0., 0., 0., 0., 0., 0., 0., 0., 0.])"
      ]
     },
     "execution_count": 45,
     "metadata": {},
     "output_type": "execute_result"
    }
   ],
   "source": [
    "data_class.y_train[2]"
   ]
  },
  {
   "cell_type": "code",
   "execution_count": 46,
   "metadata": {},
   "outputs": [
    {
     "data": {
      "text/plain": [
       "array([ True,  True,  True,  True,  True,  True,  True,  True,  True,\n",
       "       False,  True,  True,  True,  True,  True,  True,  True,  True,\n",
       "        True,  True,  True,  True,  True,  True,  True,  True,  True,\n",
       "        True,  True,  True,  True,  True,  True,  True,  True,  True,\n",
       "        True, False,  True,  True,  True,  True,  True,  True,  True,\n",
       "        True,  True, False,  True,  True,  True,  True,  True,  True,\n",
       "        True,  True,  True,  True,  True,  True,  True,  True,  True,\n",
       "        True,  True,  True, False,  True,  True,  True,  True,  True,\n",
       "        True,  True,  True,  True,  True,  True,  True,  True,  True,\n",
       "        True,  True,  True,  True,  True,  True,  True,  True,  True,\n",
       "        True,  True,  True,  True,  True,  True,  True,  True,  True,\n",
       "        True])"
      ]
     },
     "execution_count": 46,
     "metadata": {},
     "output_type": "execute_result"
    }
   ],
   "source": [
    "pred_r[2] == data_class.y_train[2]"
   ]
  },
  {
   "cell_type": "code",
   "execution_count": 48,
   "metadata": {},
   "outputs": [],
   "source": [
    "from model import metric1"
   ]
  },
  {
   "cell_type": "code",
   "execution_count": 52,
   "metadata": {},
   "outputs": [
    {
     "name": "stdout",
     "output_type": "stream",
     "text": [
      "0.0051\n",
      "0.0013926564160113859\n",
      "0.01948449655600501\n"
     ]
    }
   ],
   "source": [
    "metric1(data_class.y_train, pred_r)"
   ]
  },
  {
   "cell_type": "code",
   "execution_count": 53,
   "metadata": {},
   "outputs": [
    {
     "name": "stdout",
     "output_type": "stream",
     "text": [
      "0.006733333333333333\n",
      "0.08556367246224784\n",
      "0.019509780292469817\n"
     ]
    }
   ],
   "source": [
    "metric1(data_class.y_train , y_pred_train)"
   ]
  },
  {
   "cell_type": "code",
   "execution_count": 54,
   "metadata": {},
   "outputs": [],
   "source": [
    "from sklearn.feature_extraction.text import TfidfVectorizer "
   ]
  },
  {
   "cell_type": "code",
   "execution_count": 64,
   "metadata": {},
   "outputs": [],
   "source": [
    "vectorizer = TfidfVectorizer()\n",
    "feature_train = vectorizer.fit_transform(data_class.x_train)\n",
    "feature_val = vectorizer.transform(data_class.x_val)\n",
    "feature_test = vectorizer.transform(data_class.x_test)"
   ]
  },
  {
   "cell_type": "code",
   "execution_count": 61,
   "metadata": {},
   "outputs": [],
   "source": [
    "import numpy as np\n",
    "from sklearn.datasets import make_multilabel_classification\n",
    "from sklearn.multioutput import MultiOutputClassifier\n",
    "from sklearn.linear_model import LogisticRegression"
   ]
  },
  {
   "cell_type": "code",
   "execution_count": 65,
   "metadata": {},
   "outputs": [],
   "source": [
    "clf = MultiOutputClassifier(LogisticRegression()).fit(feature_train, data_class.y_train)"
   ]
  },
  {
   "cell_type": "code",
   "execution_count": 68,
   "metadata": {},
   "outputs": [],
   "source": [
    "pred_for_train = clf.predict(feature_train)\n",
    "pred_for_val = clf.predict(feature_val)"
   ]
  },
  {
   "cell_type": "code",
   "execution_count": 78,
   "metadata": {},
   "outputs": [
    {
     "data": {
      "text/plain": [
       "['javascript', 'jquery']"
      ]
     },
     "execution_count": 78,
     "metadata": {},
     "output_type": "execute_result"
    }
   ],
   "source": [
    "encoder_instance.decode(pred_for_train[99])"
   ]
  },
  {
   "cell_type": "code",
   "execution_count": 79,
   "metadata": {},
   "outputs": [
    {
     "name": "stdout",
     "output_type": "stream",
     "text": [
      "0.2785\n",
      "0.555870929577654\n",
      "0.2717931744269514\n"
     ]
    }
   ],
   "source": [
    "metric1(data_class.y_train, pred_for_train)"
   ]
  },
  {
   "cell_type": "code",
   "execution_count": 80,
   "metadata": {},
   "outputs": [
    {
     "name": "stdout",
     "output_type": "stream",
     "text": [
      "{\n",
      "  \"precision\": 0.8872251720157364,\n",
      "  \"recall\": 0.4307209816455588,\n",
      "  \"f1\": 0.555870929577654\n",
      "}\n"
     ]
    },
    {
     "name": "stderr",
     "output_type": "stream",
     "text": [
      "c:\\Users\\Hamza\\Documents\\project\\NLP\\.venv\\lib\\site-packages\\sklearn\\metrics\\_classification.py:1334: UndefinedMetricWarning: Precision and F-score are ill-defined and being set to 0.0 in labels with no predicted samples. Use `zero_division` parameter to control this behavior.\n",
      "  _warn_prf(average, modifier, msg_start, len(result))\n"
     ]
    }
   ],
   "source": [
    "metric(y_pred=pred_for_train,y_test=data_class.y_train)\n"
   ]
  },
  {
   "cell_type": "code",
   "execution_count": null,
   "metadata": {},
   "outputs": [],
   "source": []
  }
 ],
 "metadata": {
  "kernelspec": {
   "display_name": "Python 3.10.7 ('.venv': venv)",
   "language": "python",
   "name": "python3"
  },
  "language_info": {
   "codemirror_mode": {
    "name": "ipython",
    "version": 3
   },
   "file_extension": ".py",
   "mimetype": "text/x-python",
   "name": "python",
   "nbconvert_exporter": "python",
   "pygments_lexer": "ipython3",
   "version": "3.10.7"
  },
  "orig_nbformat": 4,
  "vscode": {
   "interpreter": {
    "hash": "1ad64e2f76d4b663e27dc016b301ff2b90262b1c123047d66778f2c46f1cc0cc"
   }
  }
 },
 "nbformat": 4,
 "nbformat_minor": 2
}
